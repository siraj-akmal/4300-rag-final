{
 "cells": [
  {
   "cell_type": "code",
   "execution_count": 5,
   "id": "33d4df28-4ee6-47b7-a8f9-92dc34c532ac",
   "metadata": {},
   "outputs": [
    {
     "name": "stdout",
     "output_type": "stream",
     "text": [
      "Requirement already satisfied: fitz in /Users/sirajakmal/anaconda3/lib/python3.11/site-packages (0.0.1.dev2)\n",
      "Requirement already satisfied: configobj in /Users/sirajakmal/anaconda3/lib/python3.11/site-packages (from fitz) (5.0.9)\n",
      "Requirement already satisfied: configparser in /Users/sirajakmal/anaconda3/lib/python3.11/site-packages (from fitz) (7.2.0)\n",
      "Requirement already satisfied: httplib2 in /Users/sirajakmal/anaconda3/lib/python3.11/site-packages (from fitz) (0.22.0)\n",
      "Requirement already satisfied: nibabel in /Users/sirajakmal/anaconda3/lib/python3.11/site-packages (from fitz) (5.3.2)\n",
      "Requirement already satisfied: nipype in /Users/sirajakmal/anaconda3/lib/python3.11/site-packages (from fitz) (1.9.2)\n",
      "Requirement already satisfied: numpy in /Users/sirajakmal/anaconda3/lib/python3.11/site-packages (from fitz) (1.26.4)\n",
      "Requirement already satisfied: pandas in /Users/sirajakmal/anaconda3/lib/python3.11/site-packages (from fitz) (2.0.3)\n",
      "Requirement already satisfied: pyxnat in /Users/sirajakmal/anaconda3/lib/python3.11/site-packages (from fitz) (1.6.3)\n",
      "Requirement already satisfied: scipy in /Users/sirajakmal/anaconda3/lib/python3.11/site-packages (from fitz) (1.11.1)\n",
      "Requirement already satisfied: pyparsing!=3.0.0,!=3.0.1,!=3.0.2,!=3.0.3,<4,>=2.4.2 in /Users/sirajakmal/anaconda3/lib/python3.11/site-packages (from httplib2->fitz) (3.0.9)\n",
      "Requirement already satisfied: importlib-resources>=5.12 in /Users/sirajakmal/anaconda3/lib/python3.11/site-packages (from nibabel->fitz) (6.5.2)\n",
      "Requirement already satisfied: packaging>=20 in /Users/sirajakmal/anaconda3/lib/python3.11/site-packages (from nibabel->fitz) (24.2)\n",
      "Requirement already satisfied: typing-extensions>=4.6 in /Users/sirajakmal/anaconda3/lib/python3.11/site-packages (from nibabel->fitz) (4.12.2)\n",
      "Requirement already satisfied: click>=6.6.0 in /Users/sirajakmal/anaconda3/lib/python3.11/site-packages (from nipype->fitz) (8.0.4)\n",
      "Requirement already satisfied: networkx>=2.5 in /Users/sirajakmal/anaconda3/lib/python3.11/site-packages (from nipype->fitz) (3.1)\n",
      "Requirement already satisfied: prov>=1.5.2 in /Users/sirajakmal/anaconda3/lib/python3.11/site-packages (from nipype->fitz) (2.0.1)\n",
      "Requirement already satisfied: pydot>=1.2.3 in /Users/sirajakmal/anaconda3/lib/python3.11/site-packages (from nipype->fitz) (3.0.4)\n",
      "Requirement already satisfied: python-dateutil>=2.2 in /Users/sirajakmal/anaconda3/lib/python3.11/site-packages (from nipype->fitz) (2.8.2)\n",
      "Requirement already satisfied: rdflib>=5.0.0 in /Users/sirajakmal/anaconda3/lib/python3.11/site-packages (from nipype->fitz) (6.3.2)\n",
      "Requirement already satisfied: simplejson>=3.8.0 in /Users/sirajakmal/anaconda3/lib/python3.11/site-packages (from nipype->fitz) (3.20.1)\n",
      "Requirement already satisfied: traits>=6.2 in /Users/sirajakmal/anaconda3/lib/python3.11/site-packages (from nipype->fitz) (7.0.2)\n",
      "Requirement already satisfied: filelock>=3.0.0 in /Users/sirajakmal/anaconda3/lib/python3.11/site-packages (from nipype->fitz) (3.9.0)\n",
      "Requirement already satisfied: acres in /Users/sirajakmal/anaconda3/lib/python3.11/site-packages (from nipype->fitz) (0.3.0)\n",
      "Requirement already satisfied: etelemetry>=0.3.1 in /Users/sirajakmal/anaconda3/lib/python3.11/site-packages (from nipype->fitz) (0.3.1)\n",
      "Requirement already satisfied: looseversion!=1.2 in /Users/sirajakmal/anaconda3/lib/python3.11/site-packages (from nipype->fitz) (1.3.0)\n",
      "Requirement already satisfied: puremagic in /Users/sirajakmal/anaconda3/lib/python3.11/site-packages (from nipype->fitz) (1.28)\n",
      "Requirement already satisfied: pytz>=2020.1 in /Users/sirajakmal/anaconda3/lib/python3.11/site-packages (from pandas->fitz) (2023.3.post1)\n",
      "Requirement already satisfied: tzdata>=2022.1 in /Users/sirajakmal/anaconda3/lib/python3.11/site-packages (from pandas->fitz) (2023.3)\n",
      "Requirement already satisfied: lxml>=4.3 in /Users/sirajakmal/anaconda3/lib/python3.11/site-packages (from pyxnat->fitz) (4.9.3)\n",
      "Requirement already satisfied: requests>=2.20 in /Users/sirajakmal/anaconda3/lib/python3.11/site-packages (from pyxnat->fitz) (2.31.0)\n",
      "Requirement already satisfied: pathlib>=1.0 in /Users/sirajakmal/anaconda3/lib/python3.11/site-packages (from pyxnat->fitz) (1.0.1)\n",
      "Requirement already satisfied: ci-info>=0.2 in /Users/sirajakmal/anaconda3/lib/python3.11/site-packages (from etelemetry>=0.3.1->nipype->fitz) (0.3.0)\n",
      "Requirement already satisfied: six>=1.5 in /Users/sirajakmal/anaconda3/lib/python3.11/site-packages (from python-dateutil>=2.2->nipype->fitz) (1.16.0)\n",
      "Requirement already satisfied: isodate<0.7.0,>=0.6.0 in /Users/sirajakmal/anaconda3/lib/python3.11/site-packages (from rdflib>=5.0.0->nipype->fitz) (0.6.1)\n",
      "Requirement already satisfied: charset-normalizer<4,>=2 in /Users/sirajakmal/anaconda3/lib/python3.11/site-packages (from requests>=2.20->pyxnat->fitz) (2.0.4)\n",
      "Requirement already satisfied: idna<4,>=2.5 in /Users/sirajakmal/anaconda3/lib/python3.11/site-packages (from requests>=2.20->pyxnat->fitz) (3.4)\n",
      "Requirement already satisfied: urllib3<3,>=1.21.1 in /Users/sirajakmal/anaconda3/lib/python3.11/site-packages (from requests>=2.20->pyxnat->fitz) (1.26.16)\n",
      "Requirement already satisfied: certifi>=2017.4.17 in /Users/sirajakmal/anaconda3/lib/python3.11/site-packages (from requests>=2.20->pyxnat->fitz) (2025.1.31)\n",
      "Note: you may need to restart the kernel to use updated packages.\n"
     ]
    }
   ],
   "source": [
    "pip install fitz"
   ]
  },
  {
   "cell_type": "code",
   "execution_count": 1,
   "id": "af1a8b41-b761-4bdc-ab31-44cb666b3230",
   "metadata": {},
   "outputs": [
    {
     "name": "stdout",
     "output_type": "stream",
     "text": [
      "Requirement already satisfied: frontend in /Users/sirajakmal/anaconda3/lib/python3.11/site-packages (0.0.3)\n",
      "Requirement already satisfied: starlette>=0.12.0 in /Users/sirajakmal/anaconda3/lib/python3.11/site-packages (from frontend) (0.46.1)\n",
      "Requirement already satisfied: uvicorn>=0.7.1 in /Users/sirajakmal/anaconda3/lib/python3.11/site-packages (from frontend) (0.34.0)\n",
      "Requirement already satisfied: itsdangerous>=1.1.0 in /Users/sirajakmal/anaconda3/lib/python3.11/site-packages (from frontend) (2.0.1)\n",
      "Requirement already satisfied: aiofiles in /Users/sirajakmal/anaconda3/lib/python3.11/site-packages (from frontend) (22.1.0)\n",
      "Requirement already satisfied: anyio<5,>=3.6.2 in /Users/sirajakmal/anaconda3/lib/python3.11/site-packages (from starlette>=0.12.0->frontend) (4.9.0)\n",
      "Requirement already satisfied: click>=7.0 in /Users/sirajakmal/anaconda3/lib/python3.11/site-packages (from uvicorn>=0.7.1->frontend) (8.0.4)\n",
      "Requirement already satisfied: h11>=0.8 in /Users/sirajakmal/anaconda3/lib/python3.11/site-packages (from uvicorn>=0.7.1->frontend) (0.14.0)\n",
      "Requirement already satisfied: idna>=2.8 in /Users/sirajakmal/anaconda3/lib/python3.11/site-packages (from anyio<5,>=3.6.2->starlette>=0.12.0->frontend) (3.4)\n",
      "Requirement already satisfied: sniffio>=1.1 in /Users/sirajakmal/anaconda3/lib/python3.11/site-packages (from anyio<5,>=3.6.2->starlette>=0.12.0->frontend) (1.3.1)\n",
      "Requirement already satisfied: typing_extensions>=4.5 in /Users/sirajakmal/anaconda3/lib/python3.11/site-packages (from anyio<5,>=3.6.2->starlette>=0.12.0->frontend) (4.12.2)\n",
      "Note: you may need to restart the kernel to use updated packages.\n"
     ]
    }
   ],
   "source": [
    "pip install frontend"
   ]
  },
  {
   "cell_type": "code",
   "execution_count": 2,
   "id": "6496b867-9cd1-48fd-a8f4-9e698b9fb177",
   "metadata": {},
   "outputs": [
    {
     "name": "stdout",
     "output_type": "stream",
     "text": [
      "Collecting pymupdf\n",
      "  Obtaining dependency information for pymupdf from https://files.pythonhosted.org/packages/ae/76/0757056bdcf273de4934681b84acde6e0b61a46b1755038e8d786ac6b368/pymupdf-1.25.4-cp39-abi3-macosx_11_0_arm64.whl.metadata\n",
      "  Downloading pymupdf-1.25.4-cp39-abi3-macosx_11_0_arm64.whl.metadata (3.4 kB)\n",
      "Downloading pymupdf-1.25.4-cp39-abi3-macosx_11_0_arm64.whl (18.6 MB)\n",
      "\u001b[2K   \u001b[90m━━━━━━━━━━━━━━━━━━━━━━━━━━━━━━━━━━━━━━━━\u001b[0m \u001b[32m18.6/18.6 MB\u001b[0m \u001b[31m2.4 MB/s\u001b[0m eta \u001b[36m0:00:00\u001b[0m00:01\u001b[0m00:01\u001b[0m\n",
      "\u001b[?25hInstalling collected packages: pymupdf\n",
      "Successfully installed pymupdf-1.25.4\n",
      "Note: you may need to restart the kernel to use updated packages.\n"
     ]
    }
   ],
   "source": [
    "pip install pymupdf"
   ]
  },
  {
   "cell_type": "code",
   "execution_count": null,
   "id": "9dac5ae2-5f46-45de-bb8f-e26a79d29882",
   "metadata": {},
   "outputs": [],
   "source": [
    "import os\n",
    "import fitz\n",
    "\n",
    "#4300 Notes is where the PDFs are stored, processed_texts is where txt files are saved to\n",
    "PDF_FOLDER = \"4300 Notes\"\n",
    "OUTPUT_FOLDER = \"processed_texts\"\n",
    "\n",
    "#Adjust chunks and chunk size here\n",
    "CHUNK_SIZE = 200 \n",
    "OVERLAP_SIZE = 30  "
   ]
  },
  {
   "cell_type": "code",
   "execution_count": null,
   "id": "09bf6ed9-fafd-4b3f-a307-067a6cb4c225",
   "metadata": {},
   "outputs": [
    {
     "name": "stdout",
     "output_type": "stream",
     "text": [
      "Processed B-trees.pdf → 42 chunks saved.\n",
      "Processed Document DBs and Mongo.pdf → 55 chunks saved.\n",
      "Processed NoSQL Documentation.pdf → 67 chunks saved.\n",
      "Processed AWS Intro.pdf → 39 chunks saved.\n",
      "Processed MongoDB Documentation.pdf → 85 chunks saved.\n",
      "Processed BST_hw.pdf → 30 chunks saved.\n",
      "Processed EC2 & Lambda.pdf → 29 chunks saved.\n",
      "Processed MongoDB Examples.pdf → 36 chunks saved.\n",
      "Processed Neo4j.pdf → 33 chunks saved.\n",
      "Processed MongoDB Aggregation.pdf → 16 chunks saved.\n",
      "Processed B-Trees — CS3 Data Structures & Algorithms.pdf → 180 chunks saved.\n",
      "Processed Redis + Python.pdf → 22 chunks saved.\n",
      "Processed Introduction to Graph Data Model.pdf → 30 chunks saved.\n",
      "Processed BST.pdf → 92 chunks saved.\n",
      "Processed Data Replication.pdf → 47 chunks saved.\n",
      "Processed NoSQL Intro + KV DBs.pdf → 89 chunks saved.\n",
      "Processed B+Tree Walkthrough.pdf → 22 chunks saved.\n",
      "Processed Foundations.pdf → 41 chunks saved.\n",
      "Processed Moving Beyond the Relational Model.pdf → 60 chunks saved.\n",
      "Processed PyMongo.pdf → 9 chunks saved.\n"
     ]
    }
   ],
   "source": [
    "os.makedirs(OUTPUT_FOLDER, exist_ok=True)\n",
    "\n",
    "#Extracting the text from PDF\n",
    "def extract_text_from_pdf(pdf_path):\n",
    "    text = \"\"\n",
    "    doc = fitz.open(pdf_path)\n",
    "    for page in doc:\n",
    "        text += page.get_text(\"text\") + \"\\n\"\n",
    "    return text.strip()\n",
    "\n",
    "#Remove extra spaces, newlines and non-ASCII\n",
    "def clean_text(text): \n",
    "    text = text.replace(\"\\n\", \" \").replace(\"\\t\", \" \") \n",
    "    text = \" \".join(text.split())  \n",
    "    return text\n",
    "\n",
    "#Split text into chunks with overlap\n",
    "def chunk_text(text, chunk_size=500, overlap=50):\n",
    "    words = text.split()\n",
    "    chunks = []\n",
    "    for i in range(0, len(words), chunk_size - overlap):\n",
    "        chunk = \" \".join(words[i:i + chunk_size])\n",
    "        chunks.append(chunk)\n",
    "    return chunks\n",
    "\n",
    "def process_pdfs():\n",
    "    for filename in os.listdir(PDF_FOLDER):\n",
    "        if filename.endswith(\".pdf\"):\n",
    "            pdf_path = os.path.join(PDF_FOLDER, filename)\n",
    "            text = extract_text_from_pdf(pdf_path)\n",
    "            text = clean_text(text) \n",
    "            chunks = chunk_text(text, chunk_size=CHUNK_SIZE, overlap=OVERLAP_SIZE) \n",
    "            \n",
    "            #Save chunks as separate file\n",
    "            for idx, chunk in enumerate(chunks):\n",
    "                chunk_filename = f\"{filename.replace('.pdf', '')}_chunk{idx}.txt\"\n",
    "                output_path = os.path.join(OUTPUT_FOLDER, chunk_filename)\n",
    "                \n",
    "                with open(output_path, \"w\", encoding=\"utf-8\") as f:\n",
    "                    f.write(chunk)\n",
    "                \n",
    "            print(f\"Processed {filename} → {len(chunks)} chunks saved.\")\n",
    "\n",
    "process_pdfs()"
   ]
  },
  {
   "cell_type": "markdown",
   "id": "c97c92e5-a161-4049-af67-06f785c81056",
   "metadata": {},
   "source": [
    "# USING TEST TRANSFORMER TO TEST QUERIES FOR CHUNK SIZE OPTIMIZATION"
   ]
  }
 ],
 "metadata": {
  "kernelspec": {
   "display_name": "Python 3 (ipykernel)",
   "language": "python",
   "name": "python3"
  },
  "language_info": {
   "codemirror_mode": {
    "name": "ipython",
    "version": 3
   },
   "file_extension": ".py",
   "mimetype": "text/x-python",
   "name": "python",
   "nbconvert_exporter": "python",
   "pygments_lexer": "ipython3",
   "version": "3.12.7"
  }
 },
 "nbformat": 4,
 "nbformat_minor": 5
}
